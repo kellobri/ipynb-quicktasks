{
 "metadata": {
  "name": "",
  "signature": "sha256:a9d4004bd2965cde4cec762ee688af7093ba6b59a4c7ad9c29359fce3a8708fe"
 },
 "nbformat": 3,
 "nbformat_minor": 0,
 "worksheets": [
  {
   "cells": [
    {
     "cell_type": "code",
     "collapsed": false,
     "input": [
      "first = \"apples, carrots, kale, dill pickles, spinach, mellon, weeds\"\n",
      "fl = first.split(\", \")\n",
      "second = \"rake, back hoe, shovel, pick, axe, trench\"\n",
      "sl = second.split(\", \")\n",
      "phrases = \"phrases are multiple, words put together, a longer string\"\n",
      "pl = phrases.split(\", \")"
     ],
     "language": "python",
     "metadata": {},
     "outputs": [],
     "prompt_number": 24
    },
    {
     "cell_type": "code",
     "collapsed": false,
     "input": [
      "for item in fl:\n",
      "    print \"keyword_first_group: \\\"%s\\\"\" %(item)"
     ],
     "language": "python",
     "metadata": {},
     "outputs": [
      {
       "output_type": "stream",
       "stream": "stdout",
       "text": [
        "keyword_first_group: \"apples\"\n",
        "keyword_first_group: \"carrots\"\n",
        "keyword_first_group: \"kale\"\n",
        "keyword_first_group: \"dill pickles\"\n",
        "keyword_first_group: \"spinach\"\n",
        "keyword_first_group: \"mellon\"\n",
        "keyword_first_group: \"weeds\"\n"
       ]
      }
     ],
     "prompt_number": 25
    },
    {
     "cell_type": "code",
     "collapsed": false,
     "input": [
      "for item in sl:\n",
      "    print \"keyword_second_group: \\\"%s\\\"\" %(item)"
     ],
     "language": "python",
     "metadata": {},
     "outputs": [
      {
       "output_type": "stream",
       "stream": "stdout",
       "text": [
        "keyword_second_group: \"rake\"\n",
        "keyword_second_group: \"back hoe\"\n",
        "keyword_second_group: \"shovel\"\n",
        "keyword_second_group: \"pick\"\n",
        "keyword_second_group: \"axe\"\n",
        "keyword_second_group: \"trench\"\n"
       ]
      }
     ],
     "prompt_number": 22
    },
    {
     "cell_type": "code",
     "collapsed": false,
     "input": [
      "for item in pl:\n",
      "    print \"keyphrase: \\\"%s\\\"\" %(item)"
     ],
     "language": "python",
     "metadata": {},
     "outputs": [
      {
       "output_type": "stream",
       "stream": "stdout",
       "text": [
        "keyphrase: \"phrases are multiple\"\n",
        "keyphrase: \"words put together\"\n",
        "keyphrase: \"a longer string\"\n"
       ]
      }
     ],
     "prompt_number": 23
    },
    {
     "cell_type": "code",
     "collapsed": false,
     "input": [],
     "language": "python",
     "metadata": {},
     "outputs": []
    }
   ],
   "metadata": {}
  }
 ]
}